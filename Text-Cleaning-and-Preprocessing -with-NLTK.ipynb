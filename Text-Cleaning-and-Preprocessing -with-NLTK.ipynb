{
 "cells": [
  {
   "cell_type": "markdown",
   "metadata": {},
   "source": [
    "# Assignment: Text Cleaning and Preprocessing wit NLTK \n",
    "\n",
    "Coder: Hisham D Macaraya"
   ]
  },
  {
   "cell_type": "markdown",
   "metadata": {},
   "source": [
    "### Importing necessary libraries and packages"
   ]
  },
  {
   "cell_type": "code",
   "execution_count": 1,
   "metadata": {},
   "outputs": [],
   "source": [
    "# Importing NLTK library for natural language processing tasks\n",
    "import nltk\n",
    "from nltk.tokenize import word_tokenize  # For tokenizing text into words\n",
    "from nltk.corpus import stopwords  # For accessing common stop words\n",
    "from nltk.stem import PorterStemmer  # For stemming words to their root form"
   ]
  },
  {
   "cell_type": "code",
   "execution_count": 2,
   "metadata": {},
   "outputs": [
    {
     "name": "stderr",
     "output_type": "stream",
     "text": [
      "[nltk_data] Downloading package punkt to\n",
      "[nltk_data]     C:\\Users\\hisha\\AppData\\Roaming\\nltk_data...\n",
      "[nltk_data]   Package punkt is already up-to-date!\n",
      "[nltk_data] Downloading package stopwords to\n",
      "[nltk_data]     C:\\Users\\hisha\\AppData\\Roaming\\nltk_data...\n",
      "[nltk_data]   Package stopwords is already up-to-date!\n"
     ]
    },
    {
     "data": {
      "text/plain": [
       "True"
      ]
     },
     "execution_count": 2,
     "metadata": {},
     "output_type": "execute_result"
    }
   ],
   "source": [
    "# Download required NLTK data\n",
    "nltk.download('punkt')  # Data for tokenization\n",
    "nltk.download('stopwords')  # Data for common stop words"
   ]
  },
  {
   "cell_type": "markdown",
   "metadata": {},
   "source": [
    "### Sample Dataset: User Reviews"
   ]
  },
  {
   "cell_type": "code",
   "execution_count": 3,
   "metadata": {},
   "outputs": [],
   "source": [
    "# Defining a list of user reviews for a hypothetical product\n",
    "reviews = [\n",
    "    \"I absolutely love this product! It has changed my life!!!\",\n",
    "    \"Do not buy this. It broke after just a day.\",\n",
    "    \"Decent product for the price, I guess...\",\n",
    "    \"Absolutely fantastic! I can't believe how good this is.\",\n",
    "    \"Waste of money. Stopped working after a week.\",\n",
    "    \"For the price, it's okay...not great, but not terrible either.\"\n",
    "]"
   ]
  },
  {
   "cell_type": "markdown",
   "metadata": {},
   "source": [
    "### Task 1: Tokenization"
   ]
  },
  {
   "cell_type": "code",
   "execution_count": 4,
   "metadata": {},
   "outputs": [
    {
     "name": "stdout",
     "output_type": "stream",
     "text": [
      "Tokens for the first review:\n",
      "['I', 'absolutely', 'love', 'this', 'product', '!', 'It', 'has', 'changed', 'my', 'life', '!', '!', '!']\n",
      "\n",
      "Tokens for the second review:\n",
      "['Do', 'not', 'buy', 'this', '.', 'It', 'broke', 'after', 'just', 'a', 'day', '.']\n"
     ]
    }
   ],
   "source": [
    "# Tokenizing each review into individual words\n",
    "# Tokenization helps in breaking down text into smaller units for analysis\n",
    "tokenized_reviews = [word_tokenize(review) for review in reviews]\n",
    "print(\"Tokens for the first review:\")\n",
    "print(tokenized_reviews[0])  # Display tokens for the first review\n",
    "print(\"\\nTokens for the second review:\")\n",
    "print(tokenized_reviews[1])  # Display tokens for the second review"
   ]
  },
  {
   "cell_type": "markdown",
   "metadata": {},
   "source": [
    "### Task 2: Lowercasing"
   ]
  },
  {
   "cell_type": "code",
   "execution_count": 5,
   "metadata": {},
   "outputs": [
    {
     "name": "stdout",
     "output_type": "stream",
     "text": [
      "\n",
      "Lowercased tokens for the third review:\n",
      "['decent', 'product', 'for', 'the', 'price', ',', 'i', 'guess', '...']\n"
     ]
    }
   ],
   "source": [
    "# Converting all tokens to lowercase for consistency\n",
    "# This helps in treating words like 'Product' and 'product' as the same\n",
    "lowercased_reviews = [[word.lower() for word in review] for review in tokenized_reviews]\n",
    "print(\"\\nLowercased tokens for the third review:\")\n",
    "print(lowercased_reviews[2])  # Display lowercased tokens for the third review"
   ]
  },
  {
   "cell_type": "markdown",
   "metadata": {},
   "source": [
    "### Task 3: Removing Punctuation and Stopwords"
   ]
  },
  {
   "cell_type": "code",
   "execution_count": 6,
   "metadata": {},
   "outputs": [
    {
     "name": "stdout",
     "output_type": "stream",
     "text": [
      "\n",
      "Cleaned tokens for the fourth review (no punctuation and stopwords):\n",
      "['absolutely', 'fantastic', 'ca', 'believe', 'good']\n"
     ]
    }
   ],
   "source": [
    "# Removing punctuation and common stop words from the reviews\n",
    "# Stop words are common words that do not contribute much meaning, e.g., 'the', 'is'\n",
    "stop_words = set(stopwords.words('english'))\n",
    "cleaned_reviews = [[word for word in review if word.isalnum() and word not in stop_words] for review in lowercased_reviews]\n",
    "print(\"\\nCleaned tokens for the fourth review (no punctuation and stopwords):\")\n",
    "print(cleaned_reviews[3])  # Display cleaned tokens for the fourth review"
   ]
  },
  {
   "cell_type": "markdown",
   "metadata": {},
   "source": [
    "### Task 4: Stemming"
   ]
  },
  {
   "cell_type": "code",
   "execution_count": 7,
   "metadata": {},
   "outputs": [
    {
     "name": "stdout",
     "output_type": "stream",
     "text": [
      "\n",
      "Stemmed tokens for the fifth review:\n",
      "['wast', 'money', 'stop', 'work', 'week']\n"
     ]
    }
   ],
   "source": [
    "# Applying stemming to reduce words to their root forms\n",
    "# Stemming helps in normalizing words to a common base form, e.g., 'running' to 'run'\n",
    "stemmer = PorterStemmer()\n",
    "stemmed_reviews = [[stemmer.stem(word) for word in review] for review in cleaned_reviews]\n",
    "print(\"\\nStemmed tokens for the fifth review:\")\n",
    "print(stemmed_reviews[4])  # Display stemmed tokens for the fifth review"
   ]
  }
 ],
 "metadata": {
  "kernelspec": {
   "display_name": "Python 3",
   "language": "python",
   "name": "python3"
  },
  "language_info": {
   "codemirror_mode": {
    "name": "ipython",
    "version": 3
   },
   "file_extension": ".py",
   "mimetype": "text/x-python",
   "name": "python",
   "nbconvert_exporter": "python",
   "pygments_lexer": "ipython3",
   "version": "3.11.9"
  }
 },
 "nbformat": 4,
 "nbformat_minor": 2
}
